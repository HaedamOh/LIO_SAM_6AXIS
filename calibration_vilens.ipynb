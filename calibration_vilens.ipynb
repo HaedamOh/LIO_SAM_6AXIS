{
 "cells": [
  {
   "cell_type": "markdown",
   "metadata": {},
   "source": [
    "# Transformation Convention Summary\n",
    "\n",
    "In transformations between frames A and B:\n",
    "\n",
    "- **Subscript** denotes the frame that the vector is expressed in.\n",
    "- **Superscript** denotes the frame that the vector is transformed into.\n",
    "\n",
    "## Transforming from Frame A to Frame B and Expressing Frame A in Frame B\n",
    "\n",
    "- **Notation**: \\( T_{AB} \\) (Transformation from frame A to frame B) and \\( ^B T_A \\) (Frame A expressed in frame B)\n",
    "- **Interpretation**: A relative to B\n",
    "- **Example**: Transforming a vector from frame A to frame B or expressing the position or orientation of frame A relative to frame B\n"
   ]
  },
  {
   "cell_type": "code",
   "execution_count": 5,
   "metadata": {},
   "outputs": [
    {
     "name": "stdout",
     "output_type": "stream",
     "text": [
      "\n",
      "Translation Vector (T_BL_to_BI):\n",
      " [-0.01661674  0.01529554 -0.07735917]\n",
      "Rotation Matrix (R_BL_to_BI):\n",
      "[[ 0.99998242  0.00304873 -0.00508602]\n",
      " [-0.00309734  0.99994934 -0.0095776 ]\n",
      " [ 0.00505656  0.00959318  0.9999412 ]]\n",
      "\n",
      "Transformation Matrix (T_LI):\n",
      " [[ 0.99998242  0.00304873 -0.00508602 -0.01661674]\n",
      " [-0.00309734  0.99994934 -0.0095776   0.01529554]\n",
      " [ 0.00505656  0.00959318  0.9999412  -0.07735917]\n",
      " [ 0.          0.          0.          1.        ]]\n"
     ]
    }
   ],
   "source": [
    "import numpy as np\n",
    "from scipy.spatial.transform import Rotation\n",
    "\n",
    "\n",
    "# Base relative to IMU, T_BI, R_BI  \n",
    "B_r_BI = np.array([-0.01775, 0.006, 0.058])  # Translation from IMU to Body frame\n",
    "q_BI = np.array([0.000000, 0.000000, 0.707106781186548, 0.707106781186548])  # Quaternion from IMU to Body frame\n",
    "r_BI = Rotation.from_quat(q_BI).as_matrix()\n",
    "T_BI = np.eye(4)\n",
    "T_BI[:3, :3] = r_BI\n",
    "T_BI[:3, 3] = B_r_BI\n",
    "\n",
    "# Base relative to Lidar, T_BL, R_BL \n",
    "B_r_BL = np.array([-0.00042, -0.008, 0.135446])  # Translation from Lidar to Body frame\n",
    "q_BL = np.array([-0.001596, 0.005182, 0.708182, 0.706009])  # Quaternion from Lidar to Body frame\n",
    "r_BL = Rotation.from_quat(q_BL).as_matrix()\n",
    "T_BL = np.eye(4)    \n",
    "T_BL[:3, :3] = r_BL\n",
    "T_BL[:3, 3] = B_r_BL\n",
    "\n",
    "# Rotation from Lidar to IMU:      \n",
    "R_BL_to_BI = Rotation.from_quat(q_BI).as_matrix() @ Rotation.from_quat(q_BL).as_matrix().T\n",
    "\n",
    "# Translation from Lidar to IMU\n",
    "T_BL_to_BI = B_r_BI - R_BL_to_BI @ B_r_BL\n",
    "\n",
    "print(\"\\nTranslation Vector (T_BL_to_BI):\\n\", T_BL_to_BI)\n",
    "print(\"Rotation Matrix (R_BL_to_BI):\")\n",
    "print(R_BL_to_BI)\n",
    "\n",
    "# LiDAR -> IMU Transformation Matrix \n",
    "T_LI = T_BI @ np.linalg.inv(T_BL)\n",
    "print(\"\\nTransformation Matrix (T_LI):\\n\", T_LI)\n"
   ]
  }
 ],
 "metadata": {
  "kernelspec": {
   "display_name": "Python 3",
   "language": "python",
   "name": "python3"
  },
  "language_info": {
   "codemirror_mode": {
    "name": "ipython",
    "version": 3
   },
   "file_extension": ".py",
   "mimetype": "text/x-python",
   "name": "python",
   "nbconvert_exporter": "python",
   "pygments_lexer": "ipython3",
   "version": "3.8.10"
  }
 },
 "nbformat": 4,
 "nbformat_minor": 2
}
